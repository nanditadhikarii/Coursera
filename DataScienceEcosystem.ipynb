{
 "cells": [
  {
   "cell_type": "markdown",
   "id": "03fb2d45",
   "metadata": {},
   "source": [
    "# Data Science Tools and Ecosystem\n",
    "In this notebook, Data Science Tools and Ecosystem are summarized."
   ]
  },
  {
   "cell_type": "markdown",
   "id": "fcf39864",
   "metadata": {},
   "source": [
    "**Objectives:**\n",
    "* popular languages for data science is python, r etc.\n",
    "* it helps to explore data science experiments using jupyter labs"
   ]
  },
  {
   "cell_type": "markdown",
   "id": "f5d4b874",
   "metadata": {},
   "source": [
    "Some of the popular languages that Data Scientists use are:\n",
    "1. python\n",
    "2. R\n",
    "3. java\n",
    "4. javascript"
   ]
  },
  {
   "cell_type": "markdown",
   "id": "ba020339",
   "metadata": {},
   "source": [
    "Some of the commonly used libraries used by Data Scientists include:\n",
    "1. pandas\n",
    "2. numpy\n",
    "3. seaborn\n",
    "4. keras\n",
    "    "
   ]
  },
  {
   "cell_type": "markdown",
   "id": "3610c222",
   "metadata": {},
   "source": [
    "|**Data Science Tools**|\n",
    "---------\n",
    "|juypter|\n",
    "|juypterlab|\n",
    "|Apache zepplin|"
   ]
  },
  {
   "cell_type": "markdown",
   "id": "07d593d1",
   "metadata": {},
   "source": [
    "### Below are a few examples of evaluating arithmetic expressions in Python:\n"
   ]
  },
  {
   "cell_type": "code",
   "execution_count": 2,
   "id": "9233f7a8",
   "metadata": {},
   "outputs": [
    {
     "name": "stdout",
     "output_type": "stream",
     "text": [
      "17\n"
     ]
    }
   ],
   "source": [
    "x=(3*4)+5\n",
    "print(x)\n",
    "#This a simple arithmetic expression to mutiply then add integers"
   ]
  },
  {
   "cell_type": "code",
   "execution_count": 4,
   "id": "939f788b",
   "metadata": {},
   "outputs": [
    {
     "name": "stdout",
     "output_type": "stream",
     "text": [
      "3.3333333333333335 hours\n"
     ]
    }
   ],
   "source": [
    "#This will convert 200 minutes to hours by diving by 60\n",
    "x=200/60\n",
    "print(x, \"hours\")"
   ]
  },
  {
   "cell_type": "markdown",
   "id": "77e316f7",
   "metadata": {},
   "source": [
    "## Author\n",
    "Nandita "
   ]
  },
  {
   "cell_type": "code",
   "execution_count": null,
   "id": "6a7139ad",
   "metadata": {},
   "outputs": [],
   "source": []
  }
 ],
 "metadata": {
  "kernelspec": {
   "display_name": "Python 3 (ipykernel)",
   "language": "python",
   "name": "python3"
  },
  "language_info": {
   "codemirror_mode": {
    "name": "ipython",
    "version": 3
   },
   "file_extension": ".py",
   "mimetype": "text/x-python",
   "name": "python",
   "nbconvert_exporter": "python",
   "pygments_lexer": "ipython3",
   "version": "3.11.5"
  }
 },
 "nbformat": 4,
 "nbformat_minor": 5
}
